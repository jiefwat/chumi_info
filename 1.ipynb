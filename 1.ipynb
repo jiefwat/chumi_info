{
 "cells": [
  {
   "cell_type": "code",
   "execution_count": 1,
   "id": "b7617215",
   "metadata": {},
   "outputs": [],
   "source": [
    "import pandas as pd\n",
    "import matplotlib.pyplot as plt\n",
    "\n",
    "from gluonts.dataset.pandas import PandasDataset\n",
    "from gluonts.dataset.split import split\n",
    "from gluonts.torch import DeepAREstimator\n",
    "\n",
    "# Load data from a CSV file into a PandasDataset\n",
    "df = pd.read_csv(\n",
    "    \"https://raw.githubusercontent.com/AileenNielsen/\"\n",
    "    \"TimeSeriesAnalysisWithPython/master/data/AirPassengers.csv\",\n",
    "    index_col=0,\n",
    "    parse_dates=True,\n",
    ")\n",
    "dataset = PandasDataset(df, target=\"#Passengers\")"
   ]
  },
  {
   "cell_type": "code",
   "execution_count": 8,
   "id": "e586a563",
   "metadata": {},
   "outputs": [],
   "source": [
    "training_data, test_gen = split(dataset, offset=-36)\n",
    "test_data = test_gen.generate_instances(prediction_length=12, windows=3)"
   ]
  },
  {
   "cell_type": "code",
   "execution_count": 9,
   "id": "7f154d22",
   "metadata": {},
   "outputs": [
    {
     "name": "stderr",
     "output_type": "stream",
     "text": [
      "GPU available: False, used: False\n",
      "TPU available: False, using: 0 TPU cores\n",
      "IPU available: False, using: 0 IPUs\n",
      "HPU available: False, using: 0 HPUs\n",
      "/Users/kaka/opt/anaconda3/lib/python3.9/site-packages/lightning/pytorch/trainer/configuration_validator.py:74: You defined a `validation_step` but have no `val_dataloader`. Skipping val loop.\n",
      "Missing logger folder: /Users/kaka/Documents/初米/lightning_logs\n",
      "2023-12-18 17:10:33.335199: I tensorflow/core/platform/cpu_feature_guard.cc:182] This TensorFlow binary is optimized to use available CPU instructions in performance-critical operations.\n",
      "To enable the following instructions: AVX2 FMA, in other operations, rebuild TensorFlow with the appropriate compiler flags.\n",
      "\n",
      "  | Name  | Type        | Params | In sizes                                                   | Out sizes   \n",
      "------------------------------------------------------------------------------------------------------------------\n",
      "0 | model | DeepARModel | 23.3 K | [[1, 1], [1, 1], [1, 48, 2], [1, 48], [1, 48], [1, 12, 2]] | [1, 100, 12]\n",
      "------------------------------------------------------------------------------------------------------------------\n",
      "23.3 K    Trainable params\n",
      "0         Non-trainable params\n",
      "23.3 K    Total params\n",
      "0.093     Total estimated model params size (MB)\n"
     ]
    },
    {
     "data": {
      "application/vnd.jupyter.widget-view+json": {
       "model_id": "617b61e061254c32ae73d6bc26e32021",
       "version_major": 2,
       "version_minor": 0
      },
      "text/plain": [
       "Training: |                                               | 0/? [00:00<?, ?it/s]"
      ]
     },
     "metadata": {},
     "output_type": "display_data"
    },
    {
     "name": "stderr",
     "output_type": "stream",
     "text": [
      "Epoch 0, global step 50: 'train_loss' reached 5.91289 (best 5.91289), saving model to '/Users/kaka/Documents/初米/lightning_logs/version_0/checkpoints/epoch=0-step=50.ckpt' as top 1\n",
      "Epoch 1, global step 100: 'train_loss' reached 4.79252 (best 4.79252), saving model to '/Users/kaka/Documents/初米/lightning_logs/version_0/checkpoints/epoch=1-step=100.ckpt' as top 1\n",
      "Epoch 2, global step 150: 'train_loss' reached 4.49681 (best 4.49681), saving model to '/Users/kaka/Documents/初米/lightning_logs/version_0/checkpoints/epoch=2-step=150.ckpt' as top 1\n",
      "Epoch 3, global step 200: 'train_loss' reached 4.35503 (best 4.35503), saving model to '/Users/kaka/Documents/初米/lightning_logs/version_0/checkpoints/epoch=3-step=200.ckpt' as top 1\n",
      "Epoch 4, global step 250: 'train_loss' reached 4.25186 (best 4.25186), saving model to '/Users/kaka/Documents/初米/lightning_logs/version_0/checkpoints/epoch=4-step=250.ckpt' as top 1\n",
      "`Trainer.fit` stopped: `max_epochs=5` reached.\n"
     ]
    },
    {
     "data": {
      "text/plain": [
       "[gluonts.model.forecast.SampleForecast(info=None, item_id=None, samples=array([[359.3376 , 302.36316, 408.66376, ..., 418.25336, 358.52042,\n",
       "         371.4857 ],\n",
       "        [350.43774, 282.36725, 353.1695 , ..., 425.00848, 371.29794,\n",
       "         395.36682],\n",
       "        [305.2963 , 402.03287, 352.00177, ..., 375.68356, 402.40393,\n",
       "         344.9726 ],\n",
       "        ...,\n",
       "        [351.77182, 383.43658, 393.99002, ..., 406.14218, 352.46234,\n",
       "         297.48373],\n",
       "        [333.65875, 348.32108, 406.18976, ..., 433.07336, 415.82367,\n",
       "         358.53763],\n",
       "        [357.69495, 348.34964, 352.1567 , ..., 421.46082, 369.40726,\n",
       "         375.4878 ]], dtype=float32), start_date=Period('1958-01', 'M')),\n",
       " gluonts.model.forecast.SampleForecast(info=None, item_id=None, samples=array([[357.97488, 322.72586, 375.20676, ..., 390.32016, 332.02   ,\n",
       "         354.70956],\n",
       "        [421.69174, 342.23724, 396.96268, ..., 387.07477, 417.21423,\n",
       "         382.35388],\n",
       "        [417.51144, 434.93484, 399.00952, ..., 406.14032, 386.7696 ,\n",
       "         324.18564],\n",
       "        ...,\n",
       "        [343.917  , 364.97412, 374.13983, ..., 409.9617 , 408.4973 ,\n",
       "         351.95972],\n",
       "        [361.71515, 409.70282, 406.49814, ..., 481.83368, 393.92194,\n",
       "         399.90286],\n",
       "        [270.4314 , 442.43347, 397.85825, ..., 429.7449 , 372.88754,\n",
       "         359.78937]], dtype=float32), start_date=Period('1959-01', 'M')),\n",
       " gluonts.model.forecast.SampleForecast(info=None, item_id=None, samples=array([[391.98404, 433.13745, 449.9303 , ..., 447.6666 , 358.60947,\n",
       "         385.72958],\n",
       "        [386.32645, 459.64096, 419.27765, ..., 475.35703, 476.0349 ,\n",
       "         426.4375 ],\n",
       "        [451.6388 , 447.5708 , 443.14   , ..., 424.13214, 480.40704,\n",
       "         445.52808],\n",
       "        ...,\n",
       "        [428.02625, 423.84882, 447.5165 , ..., 496.91782, 454.23758,\n",
       "         322.7415 ],\n",
       "        [327.56323, 385.22165, 425.52335, ..., 461.36322, 401.91055,\n",
       "         362.98428],\n",
       "        [357.24277, 415.94418, 441.59958, ..., 458.14264, 392.4936 ,\n",
       "         429.57077]], dtype=float32), start_date=Period('1960-01', 'M'))]"
      ]
     },
     "execution_count": 9,
     "metadata": {},
     "output_type": "execute_result"
    }
   ],
   "source": [
    "# Train the model and make predictions\n",
    "model = DeepAREstimator(\n",
    "    prediction_length=12, freq=\"M\", trainer_kwargs={\"max_epochs\": 5}\n",
    ").train(training_data)\n",
    "\n",
    "forecasts = list(model.predict(test_data.input))\n",
    "\n",
    "forecasts"
   ]
  },
  {
   "cell_type": "code",
   "execution_count": 22,
   "id": "37c455ac",
   "metadata": {},
   "outputs": [
    {
     "data": {
      "text/plain": [
       "gluonts.model.forecast.SampleForecast(info=None, item_id=None, samples=array([[357.97488, 322.72586, 375.20676, ..., 390.32016, 332.02   ,\n",
       "        354.70956],\n",
       "       [421.69174, 342.23724, 396.96268, ..., 387.07477, 417.21423,\n",
       "        382.35388],\n",
       "       [417.51144, 434.93484, 399.00952, ..., 406.14032, 386.7696 ,\n",
       "        324.18564],\n",
       "       ...,\n",
       "       [343.917  , 364.97412, 374.13983, ..., 409.9617 , 408.4973 ,\n",
       "        351.95972],\n",
       "       [361.71515, 409.70282, 406.49814, ..., 481.83368, 393.92194,\n",
       "        399.90286],\n",
       "       [270.4314 , 442.43347, 397.85825, ..., 429.7449 , 372.88754,\n",
       "        359.78937]], dtype=float32), start_date=Period('1959-01', 'M'))"
      ]
     },
     "execution_count": 22,
     "metadata": {},
     "output_type": "execute_result"
    }
   ],
   "source": [
    "forecasts[1]"
   ]
  },
  {
   "cell_type": "code",
   "execution_count": 23,
   "id": "ff5dfe7c",
   "metadata": {},
   "outputs": [
    {
     "data": {
      "image/png": "[encoded data removed]",
      "text/plain": [
       "<Figure size 432x288 with 1 Axes>"
      ]
     },
     "metadata": {
      "needs_background": "light"
     },
     "output_type": "display_data"
    }
   ],
   "source": [
    "forecasts[1].plot()"
   ]
  },
  {
   "cell_type": "code",
   "execution_count": 24,
   "id": "6b920377",
   "metadata": {},
   "outputs": [
    {
     "data": {
      "text/plain": [
       "[<matplotlib.lines.Line2D at 0x7fe3ea0aab50>]"
      ]
     },
     "execution_count": 24,
     "metadata": {},
     "output_type": "execute_result"
    },
    {
     "data": {
      "image/png": "[encoded data removed]",
      "text/plain": [
       "<Figure size 432x288 with 1 Axes>"
      ]
     },
     "metadata": {
      "needs_background": "light"
     },
     "output_type": "display_data"
    }
   ],
   "source": [
    "plt.plot(df[\"1954\":], color=\"black\")"
   ]
  },
  {
   "cell_type": "code",
   "execution_count": 25,
   "id": "87884454",
   "metadata": {},
   "outputs": [
    {
     "data": {
      "image/png": "[encoded data removed]",
      "text/plain": [
       "<Figure size 432x288 with 1 Axes>"
      ]
     },
     "metadata": {
      "needs_background": "light"
     },
     "output_type": "display_data"
    }
   ],
   "source": [
    "# Plot predictions\n",
    "plt.plot(df[\"1954\":], color=\"black\")\n",
    "for forecast in forecasts:\n",
    "    forecast.plot()\n",
    "plt.legend([\"True values\"], loc=\"upper left\", fontsize=\"xx-large\")\n",
    "plt.show()"
   ]
  },
  {
   "cell_type": "code",
   "execution_count": 35,
   "id": "2307f3b8",
   "metadata": {},
   "outputs": [
    {
     "name": "stderr",
     "output_type": "stream",
     "text": [
      "/var/folders/tq/ty6dg6810571sz60cwyxn8ch0000gn/T/ipykernel_46211/2068689635.py:13: FutureWarning: The frame.append method is deprecated and will be removed from pandas in a future version. Use pandas.concat instead.\n",
      "  filled_df=filled_df.append(sku_group, ignore_index=True)\n"
     ]
    }
   ],
   "source": []
  },
  {
   "cell_type": "code",
   "execution_count": 38,
   "id": "37a300e7",
   "metadata": {},
   "outputs": [],
   "source": []
  },
  {
   "cell_type": "code",
   "execution_count": 39,
   "id": "4f686fbb",
   "metadata": {},
   "outputs": [
    {
     "data": {
      "text/html": [
       "<div>\n",
       "<style scoped>\n",
       "    .dataframe tbody tr th:only-of-type {\n",
       "        vertical-align: middle;\n",
       "    }\n",
       "\n",
       "    .dataframe tbody tr th {\n",
       "        vertical-align: top;\n",
       "    }\n",
       "\n",
       "    .dataframe thead th {\n",
       "        text-align: right;\n",
       "    }\n",
       "</style>\n",
       "<table border=\"1\" class=\"dataframe\">\n",
       "  <thead>\n",
       "    <tr style=\"text-align: right;\">\n",
       "      <th></th>\n",
       "      <th>零件号</th>\n",
       "      <th>仓库代码</th>\n",
       "      <th>需求流</th>\n",
       "      <th>日期</th>\n",
       "      <th>demods</th>\n",
       "    </tr>\n",
       "  </thead>\n",
       "  <tbody>\n",
       "    <tr>\n",
       "      <th>0</th>\n",
       "      <td>XXXX</td>\n",
       "      <td>XXX</td>\n",
       "      <td>2</td>\n",
       "      <td>2023-12-01</td>\n",
       "      <td>1</td>\n",
       "    </tr>\n",
       "    <tr>\n",
       "      <th>1</th>\n",
       "      <td>XXXX</td>\n",
       "      <td>XXX</td>\n",
       "      <td>2</td>\n",
       "      <td>2023-12-04</td>\n",
       "      <td>2</td>\n",
       "    </tr>\n",
       "  </tbody>\n",
       "</table>\n",
       "</div>"
      ],
      "text/plain": [
       "    零件号 仓库代码  需求流         日期 demods\n",
       "0  XXXX  XXX    2 2023-12-01      1\n",
       "1  XXXX  XXX    2 2023-12-04      2"
      ]
     },
     "execution_count": 39,
     "metadata": {},
     "output_type": "execute_result"
    }
   ],
   "source": [
    "data"
   ]
  },
  {
   "cell_type": "code",
   "execution_count": 42,
   "id": "cdb9e031",
   "metadata": {},
   "outputs": [
    {
     "name": "stderr",
     "output_type": "stream",
     "text": [
      "/var/folders/tq/ty6dg6810571sz60cwyxn8ch0000gn/T/ipykernel_46211/890011544.py:14: FutureWarning: The frame.append method is deprecated and will be removed from pandas in a future version. Use pandas.concat instead.\n",
      "  filled_df=filled_df.append(sku_group, ignore_index=True)\n"
     ]
    }
   ],
   "source": [
    "import pandas as pd\n",
    "from datetime import datetime\n",
    "date_range = pd.date_range(start='2023-10-01', end=datetime.now(), freq='D')\n",
    "date_range\n",
    "data = pd.read_excel(\"paexcel.xlsx\")\n",
    "data['demods'] = pd.DataFrame(['1','2'])\n",
    "filled_df = pd.DataFrame()\n",
    "for sku, group in data.groupby(['零件号', '仓库代码', '需求流']):\n",
    "    sku_group = group.set_index('日期')\n",
    "    sku_group = group.set_index('日期').reindex(date_range, fill_value=0).reset_index()\n",
    "    sku_group['零件号'] = sku[0]\n",
    "    sku_group['仓库代码'] = sku[1]\n",
    "    sku_group['需求流'] = sku[2]\n",
    "    filled_df=filled_df.append(sku_group, ignore_index=True)"
   ]
  },
  {
   "cell_type": "code",
   "execution_count": 43,
   "id": "be63a5f6",
   "metadata": {},
   "outputs": [
    {
     "data": {
      "text/html": [
       "<div>\n",
       "<style scoped>\n",
       "    .dataframe tbody tr th:only-of-type {\n",
       "        vertical-align: middle;\n",
       "    }\n",
       "\n",
       "    .dataframe tbody tr th {\n",
       "        vertical-align: top;\n",
       "    }\n",
       "\n",
       "    .dataframe thead th {\n",
       "        text-align: right;\n",
       "    }\n",
       "</style>\n",
       "<table border=\"1\" class=\"dataframe\">\n",
       "  <thead>\n",
       "    <tr style=\"text-align: right;\">\n",
       "      <th></th>\n",
       "      <th>index</th>\n",
       "      <th>零件号</th>\n",
       "      <th>仓库代码</th>\n",
       "      <th>需求流</th>\n",
       "      <th>demods</th>\n",
       "    </tr>\n",
       "  </thead>\n",
       "  <tbody>\n",
       "    <tr>\n",
       "      <th>0</th>\n",
       "      <td>2023-10-01</td>\n",
       "      <td>XXXX</td>\n",
       "      <td>XXX</td>\n",
       "      <td>2</td>\n",
       "      <td>0</td>\n",
       "    </tr>\n",
       "    <tr>\n",
       "      <th>1</th>\n",
       "      <td>2023-10-02</td>\n",
       "      <td>XXXX</td>\n",
       "      <td>XXX</td>\n",
       "      <td>2</td>\n",
       "      <td>0</td>\n",
       "    </tr>\n",
       "    <tr>\n",
       "      <th>2</th>\n",
       "      <td>2023-10-03</td>\n",
       "      <td>XXXX</td>\n",
       "      <td>XXX</td>\n",
       "      <td>2</td>\n",
       "      <td>0</td>\n",
       "    </tr>\n",
       "    <tr>\n",
       "      <th>3</th>\n",
       "      <td>2023-10-04</td>\n",
       "      <td>XXXX</td>\n",
       "      <td>XXX</td>\n",
       "      <td>2</td>\n",
       "      <td>0</td>\n",
       "    </tr>\n",
       "    <tr>\n",
       "      <th>4</th>\n",
       "      <td>2023-10-05</td>\n",
       "      <td>XXXX</td>\n",
       "      <td>XXX</td>\n",
       "      <td>2</td>\n",
       "      <td>0</td>\n",
       "    </tr>\n",
       "    <tr>\n",
       "      <th>...</th>\n",
       "      <td>...</td>\n",
       "      <td>...</td>\n",
       "      <td>...</td>\n",
       "      <td>...</td>\n",
       "      <td>...</td>\n",
       "    </tr>\n",
       "    <tr>\n",
       "      <th>75</th>\n",
       "      <td>2023-12-15</td>\n",
       "      <td>XXXX</td>\n",
       "      <td>XXX</td>\n",
       "      <td>2</td>\n",
       "      <td>0</td>\n",
       "    </tr>\n",
       "    <tr>\n",
       "      <th>76</th>\n",
       "      <td>2023-12-16</td>\n",
       "      <td>XXXX</td>\n",
       "      <td>XXX</td>\n",
       "      <td>2</td>\n",
       "      <td>0</td>\n",
       "    </tr>\n",
       "    <tr>\n",
       "      <th>77</th>\n",
       "      <td>2023-12-17</td>\n",
       "      <td>XXXX</td>\n",
       "      <td>XXX</td>\n",
       "      <td>2</td>\n",
       "      <td>0</td>\n",
       "    </tr>\n",
       "    <tr>\n",
       "      <th>78</th>\n",
       "      <td>2023-12-18</td>\n",
       "      <td>XXXX</td>\n",
       "      <td>XXX</td>\n",
       "      <td>2</td>\n",
       "      <td>0</td>\n",
       "    </tr>\n",
       "    <tr>\n",
       "      <th>79</th>\n",
       "      <td>2023-12-19</td>\n",
       "      <td>XXXX</td>\n",
       "      <td>XXX</td>\n",
       "      <td>2</td>\n",
       "      <td>0</td>\n",
       "    </tr>\n",
       "  </tbody>\n",
       "</table>\n",
       "<p>80 rows × 5 columns</p>\n",
       "</div>"
      ],
      "text/plain": [
       "        index   零件号 仓库代码  需求流 demods\n",
       "0  2023-10-01  XXXX  XXX    2      0\n",
       "1  2023-10-02  XXXX  XXX    2      0\n",
       "2  2023-10-03  XXXX  XXX    2      0\n",
       "3  2023-10-04  XXXX  XXX    2      0\n",
       "4  2023-10-05  XXXX  XXX    2      0\n",
       "..        ...   ...  ...  ...    ...\n",
       "75 2023-12-15  XXXX  XXX    2      0\n",
       "76 2023-12-16  XXXX  XXX    2      0\n",
       "77 2023-12-17  XXXX  XXX    2      0\n",
       "78 2023-12-18  XXXX  XXX    2      0\n",
       "79 2023-12-19  XXXX  XXX    2      0\n",
       "\n",
       "[80 rows x 5 columns]"
      ]
     },
     "execution_count": 43,
     "metadata": {},
     "output_type": "execute_result"
    }
   ],
   "source": [
    "filled_df"
   ]
  },
  {
   "cell_type": "code",
   "execution_count": 44,
   "id": "7ccb2ccb",
   "metadata": {},
   "outputs": [
    {
     "data": {
      "text/html": [
       "<div>\n",
       "<style scoped>\n",
       "    .dataframe tbody tr th:only-of-type {\n",
       "        vertical-align: middle;\n",
       "    }\n",
       "\n",
       "    .dataframe tbody tr th {\n",
       "        vertical-align: top;\n",
       "    }\n",
       "\n",
       "    .dataframe thead th {\n",
       "        text-align: right;\n",
       "    }\n",
       "</style>\n",
       "<table border=\"1\" class=\"dataframe\">\n",
       "  <thead>\n",
       "    <tr style=\"text-align: right;\">\n",
       "      <th></th>\n",
       "      <th>零件号</th>\n",
       "      <th>仓库代码</th>\n",
       "      <th>需求流</th>\n",
       "      <th>日期</th>\n",
       "      <th>demods</th>\n",
       "    </tr>\n",
       "  </thead>\n",
       "  <tbody>\n",
       "    <tr>\n",
       "      <th>0</th>\n",
       "      <td>XXXX</td>\n",
       "      <td>XXX</td>\n",
       "      <td>2</td>\n",
       "      <td>2023-12-01</td>\n",
       "      <td>1</td>\n",
       "    </tr>\n",
       "    <tr>\n",
       "      <th>1</th>\n",
       "      <td>XXXX</td>\n",
       "      <td>XXX</td>\n",
       "      <td>2</td>\n",
       "      <td>2023-12-04</td>\n",
       "      <td>2</td>\n",
       "    </tr>\n",
       "  </tbody>\n",
       "</table>\n",
       "</div>"
      ],
      "text/plain": [
       "    零件号 仓库代码  需求流         日期 demods\n",
       "0  XXXX  XXX    2 2023-12-01      1\n",
       "1  XXXX  XXX    2 2023-12-04      2"
      ]
     },
     "execution_count": 44,
     "metadata": {},
     "output_type": "execute_result"
    }
   ],
   "source": [
    "data"
   ]
  },
  {
   "cell_type": "code",
   "execution_count": null,
   "id": "af91ed9a",
   "metadata": {},
   "outputs": [],
   "source": []
  }
 ],
 "metadata": {
  "kernelspec": {
   "display_name": "Python 3 (ipykernel)",
   "language": "python",
   "name": "python3"
  },
  "language_info": {
   "codemirror_mode": {
    "name": "ipython",
    "version": 3
   },
   "file_extension": ".py",
   "mimetype": "text/x-python",
   "name": "python",
   "nbconvert_exporter": "python",
   "pygments_lexer": "ipython3",
   "version": "3.9.12"
  }
 },
 "nbformat": 4,
 "nbformat_minor": 5
}
